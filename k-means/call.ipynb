{
 "cells": [
  {
   "cell_type": "code",
   "execution_count": 1,
   "metadata": {},
   "outputs": [
    {
     "name": "stdout",
     "output_type": "stream",
     "text": [
      "{\n",
      "  \"prediction\": \"[1]\"\n",
      "}\n",
      "\n",
      "resp_dict['prediction'] =  [1]\n",
      "\n",
      "\n",
      "pred_class =  1\n"
     ]
    }
   ],
   "source": [
    "import requests\n",
    "import json\n",
    "import numpy as np\n",
    "json_data = [{'read':96, 'draw': 98, 'game': 44, 'movie': 53,'sport':2, 'dance': 3, 'travel': 12, 'shopping': 11}]\n",
    "req = requests.post('http://127.0.0.1:5000/predict', json=json_data)\n",
    "print(req.text)\n",
    "resp_dict = json.loads(req.text)\n",
    "print(\"resp_dict['prediction'] = \",resp_dict['prediction'])\n",
    "pred_num = 0\n",
    "for txt in resp_dict['prediction']:\n",
    "    try:\n",
    "        if int(txt):\n",
    "            pred_num = int(txt)\n",
    "    except:\n",
    "        print()\n",
    "print('pred_class = ',pred_num)"
   ]
  },
  {
   "cell_type": "code",
   "execution_count": null,
   "metadata": {},
   "outputs": [],
   "source": []
  }
 ],
 "metadata": {
  "kernelspec": {
   "display_name": "Python (kagari)",
   "language": "python",
   "name": "kagari"
  },
  "language_info": {
   "codemirror_mode": {
    "name": "ipython",
    "version": 3
   },
   "file_extension": ".py",
   "mimetype": "text/x-python",
   "name": "python",
   "nbconvert_exporter": "python",
   "pygments_lexer": "ipython3",
   "version": "3.6.12"
  }
 },
 "nbformat": 4,
 "nbformat_minor": 4
}
